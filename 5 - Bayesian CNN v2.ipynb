{
 "cells": [
  {
   "cell_type": "markdown",
   "metadata": {},
   "source": [
    "# Bayesian CNN with distribution output"
   ]
  },
  {
   "cell_type": "code",
   "execution_count": 1,
   "metadata": {},
   "outputs": [],
   "source": [
    "# imports\n",
    "import tensorflow as tf\n",
    "import tensorflow_probability as tfp # add probability distributions library\n",
    "\n",
    "import numpy as np\n",
    "import pandas as pd\n",
    "\n",
    "import seaborn as sns\n",
    "import matplotlib.pyplot as plt\n",
    "from sklearn.metrics import confusion_matrix\n",
    "from sklearn.model_selection import train_test_split"
   ]
  },
  {
   "cell_type": "code",
   "execution_count": 2,
   "metadata": {},
   "outputs": [],
   "source": [
    "# Paths to data\n",
    "DATA_DIR = \"C:/isic/\"\n",
    "DATASET_DIR = DATA_DIR + \"datasets/\"\n",
    "IMAGE_DIR = DATA_DIR + \"images/\"\n",
    "METADATA_DIR = DATA_DIR + \"metadata/\"\n",
    "MODELS_DIR = DATA_DIR + \"models/\""
   ]
  },
  {
   "cell_type": "code",
   "execution_count": 3,
   "metadata": {},
   "outputs": [],
   "source": [
    "# Function to parse a single TFRecord\n",
    "# The creation of this TFRecord format is specified in notebook 2\n",
    "\n",
    "def parse_tfrecord_fn(sample):\n",
    "    feature_description = {\n",
    "        \"image\": tf.io.FixedLenFeature((224, 224, 3), tf.float32),\n",
    "        \"label\": tf.io.FixedLenFeature((1,), tf.int64),\n",
    "    }\n",
    "    sample = tf.io.parse_single_example(sample, feature_description)\n",
    "    \n",
    "    return sample[\"image\"], sample[\"label\"]"
   ]
  },
  {
   "cell_type": "code",
   "execution_count": 4,
   "metadata": {},
   "outputs": [],
   "source": [
    "# Load balanced dataset\n",
    "isic_bal_tf = DATASET_DIR + \"isic_no_duplicates_balanced.tfrecord\"\n",
    "isic_bal_tfrd = tf.data.TFRecordDataset(isic_bal_tf)\n",
    "isic_bal = isic_bal_tfrd.map(parse_tfrecord_fn) # this is a map dataset, still not loading anything\n",
    "\n",
    "# some testing\n",
    "#isic_bal_images = isic_bal.map(lambda image, label: image)\n",
    "#isic_bal_labels = isic_bal.map(lambda image, label: label)"
   ]
  },
  {
   "cell_type": "code",
   "execution_count": 5,
   "metadata": {},
   "outputs": [],
   "source": [
    "# Load labels from CSV (faster than parsing each TFRecord)\n",
    "# irrelevant for the balanced / small dataset\n",
    "#isic_bal_csv = METADATA_DIR + \"isic_trimmed_balanced.csv\"\n",
    "#isic_bal_df = pd.read_csv(isic_bal_csv)\n",
    "#isic_bal_label_from_csv = isic_bal_df[\"target\"].to_numpy()"
   ]
  },
  {
   "cell_type": "code",
   "execution_count": 6,
   "metadata": {},
   "outputs": [],
   "source": [
    "# Manually split the dataset into training and validation\n",
    "dataset_size = 1162  # number of images in the dataset - we know this from the CSV\n",
    "train_size = int(0.8 * dataset_size)  # 80% for training\n",
    "val_size = int(0.1 * dataset_size)  # 10% for validation\n",
    "# the rest 10% will be for testing\n",
    "\n",
    "train_dataset = isic_bal.take(train_size)\n",
    "remaining = isic_bal.skip(train_size) # the remaining 20%\n",
    "\n",
    "val_dataset = remaining.take(val_size) # first 10% of the remaining data is for validation\n",
    "test_dataset = remaining.skip(val_size) # the rest 10% is for testing"
   ]
  },
  {
   "cell_type": "code",
   "execution_count": 7,
   "metadata": {},
   "outputs": [],
   "source": [
    "# Needs to access the data sequentially, just to confirm that the split is correct\n",
    "# List loads the data into memory, so not suitable for large datasets.\n",
    "debug = False # Change to check\n",
    "if debug:\n",
    "    debug_full_size = len(list(isic_bal))\n",
    "    debug_train_size = len(list(train_dataset))\n",
    "    debug_val_size = len(list(val_dataset))\n",
    "    debug_test_size = len(list(test_dataset))\n",
    "    print(f\"Size of the dataset: {debug_full_size} - 100%\")\n",
    "    print(f\"Size of the training set: {debug_train_size} - {debug_train_size / debug_full_size * 100:.2f}%\")\n",
    "    print(f\"Size of the validation set: {debug_val_size} - {debug_val_size / debug_full_size * 100:.2f}%\")\n",
    "    print(f\"Size of the test set: {debug_test_size} - {debug_test_size / debug_full_size * 100:.2f}%\")"
   ]
  },
  {
   "cell_type": "code",
   "execution_count": 8,
   "metadata": {},
   "outputs": [],
   "source": [
    "# Shuffle and batch the train and validation datasets\n",
    "batch_size = 32 # split images into batches of 32\n",
    "\n",
    "# batch, shuffle and prefetch to the training set\n",
    "train_batched = (\n",
    "    train_dataset.shuffle(\n",
    "        buffer_size=1000, seed=111\n",
    "    ) \n",
    "    .batch(batch_size)\n",
    "    .prefetch(tf.data.AUTOTUNE)\n",
    ")\n",
    "\n",
    "# batch and prefetch to the validation set\n",
    "val_batched = val_dataset.batch(batch_size).prefetch(tf.data.AUTOTUNE)"
   ]
  },
  {
   "cell_type": "code",
   "execution_count": 9,
   "metadata": {},
   "outputs": [
    {
     "name": "stderr",
     "output_type": "stream",
     "text": [
      "c:\\Users\\matt\\miniconda3\\envs\\tf\\lib\\site-packages\\tensorflow_probability\\python\\layers\\util.py:95: UserWarning: `layer.add_variable` is deprecated and will be removed in a future version. Please use the `layer.add_weight()` method instead.\n",
      "  loc = add_variable_fn(\n",
      "c:\\Users\\matt\\miniconda3\\envs\\tf\\lib\\site-packages\\tensorflow_probability\\python\\layers\\util.py:105: UserWarning: `layer.add_variable` is deprecated and will be removed in a future version. Please use the `layer.add_weight()` method instead.\n",
      "  untransformed_scale = add_variable_fn(\n"
     ]
    }
   ],
   "source": [
    "# This version outputs a distribution\n",
    "model = tf.keras.Sequential(\n",
    "    [\n",
    "        tfp.layers.Convolution2DFlipout(\n",
    "            32,\n",
    "            (3, 3),\n",
    "            activation=\"relu\",\n",
    "            input_shape=(224, 224, 3),  # match shape of our images\n",
    "        ),\n",
    "        tf.keras.layers.MaxPooling2D((2, 2)),\n",
    "        tfp.layers.Convolution2DFlipout(64, (3, 3), activation=\"relu\"),\n",
    "        tf.keras.layers.MaxPooling2D((2, 2)),\n",
    "        tfp.layers.Convolution2DFlipout(64, (3, 3), activation=\"relu\"),\n",
    "        tf.keras.layers.Flatten(),\n",
    "        tfp.layers.DenseFlipout(64, activation=\"relu\"),\n",
    "        tfp.layers.DistributionLambda(\n",
    "            lambda t: tfp.distributions.Bernoulli(logits=t)\n",
    "        ),  # bernoulli distribution for binary classification, also known as the coin flip distribution\n",
    "    ]\n",
    ")"
   ]
  },
  {
   "cell_type": "code",
   "execution_count": 10,
   "metadata": {},
   "outputs": [
    {
     "name": "stdout",
     "output_type": "stream",
     "text": [
      "Model: \"sequential\"\n",
      "_________________________________________________________________\n",
      " Layer (type)                Output Shape              Param #   \n",
      "=================================================================\n",
      " conv2d_flipout (Conv2DFlipo  (None, 222, 222, 32)     1760      \n",
      " ut)                                                             \n",
      "                                                                 \n",
      " max_pooling2d (MaxPooling2D  (None, 111, 111, 32)     0         \n",
      " )                                                               \n",
      "                                                                 \n",
      " conv2d_flipout_1 (Conv2DFli  (None, 109, 109, 64)     36928     \n",
      " pout)                                                           \n",
      "                                                                 \n",
      " max_pooling2d_1 (MaxPooling  (None, 54, 54, 64)       0         \n",
      " 2D)                                                             \n",
      "                                                                 \n",
      " conv2d_flipout_2 (Conv2DFli  (None, 52, 52, 64)       73792     \n",
      " pout)                                                           \n",
      "                                                                 \n",
      " flatten (Flatten)           (None, 173056)            0         \n",
      "                                                                 \n",
      " dense_flipout (DenseFlipout  (None, 64)               22151232  \n",
      " )                                                               \n",
      "                                                                 \n",
      " distribution_lambda (Distri  ((None, 64),             0         \n",
      " butionLambda)                (None, 64))                        \n",
      "                                                                 \n",
      "=================================================================\n",
      "Total params: 22,263,712\n",
      "Trainable params: 22,263,712\n",
      "Non-trainable params: 0\n",
      "_________________________________________________________________\n"
     ]
    }
   ],
   "source": [
    "# Note number of parameters\n",
    "# Total params: 22,263,712 vs 22,263,841 - a bit less\n",
    "# Trainable params: 22,263,712 vs 22,263,841\n",
    "model.summary()"
   ]
  },
  {
   "cell_type": "code",
   "execution_count": 11,
   "metadata": {},
   "outputs": [],
   "source": [
    "# Requires a different loss function - we have a distribution now\n",
    "# Computes the log probability of the true labels under the predicted distributions\n",
    "def negative_log_likelihood(y_true, y_pred):\n",
    "    return -y_pred.log_prob(y_true)\n",
    "\n",
    "\n",
    "def distribution_accuracy(y_true, y_pred):\n",
    "    # Convert logits to probabilities\n",
    "    y_pred_prob = tf.nn.sigmoid(y_pred)\n",
    "    # Predict the mode of the distribution\n",
    "    y_pred_mode = tf.cast(y_pred_prob > 0.5, dtype=tf.float32)\n",
    "    return tf.keras.metrics.binary_accuracy(y_true, y_pred_mode)"
   ]
  },
  {
   "cell_type": "code",
   "execution_count": 12,
   "metadata": {},
   "outputs": [],
   "source": [
    "# Compile the model\n",
    "model.compile(optimizer=\"adam\", loss=negative_log_likelihood, metrics=[distribution_accuracy])"
   ]
  },
  {
   "cell_type": "code",
   "execution_count": 13,
   "metadata": {},
   "outputs": [],
   "source": [
    "# Testing callbacks to train on large number of epochs and save the best model\n",
    "# Results are inconclusive, but functions are kept for future reference\n",
    "\n",
    "# Early stopping callback\n",
    "early_stopping = tf.keras.callbacks.EarlyStopping(\n",
    "    monitor=\"val_loss\", patience=3, restore_best_weights=True\n",
    ")\n",
    "\n",
    "# Model checkpoint callback\n",
    "save_best = tf.keras.callbacks.ModelCheckpoint(\n",
    "    MODELS_DIR + \"5_BCNN_isic_balanced_best.h5\", monitor=\"val_accuracy\", save_best_only=True\n",
    ")\n",
    "\n",
    "# Training Callbacks\n",
    "callbacks = [early_stopping, save_best]"
   ]
  },
  {
   "cell_type": "code",
   "execution_count": 14,
   "metadata": {},
   "outputs": [
    {
     "name": "stdout",
     "output_type": "stream",
     "text": [
      "Epoch 1/20\n",
      "30/30 [==============================] - 17s 267ms/step - loss: 28007986.0000 - distribution_accuracy: 0.4972 - val_loss: 27824218.0000 - val_distribution_accuracy: 0.5018\n",
      "Epoch 2/20\n",
      "30/30 [==============================] - 6s 195ms/step - loss: 27665812.0000 - distribution_accuracy: 0.4969 - val_loss: 27486464.0000 - val_distribution_accuracy: 0.5057\n",
      "Epoch 3/20\n",
      "30/30 [==============================] - 6s 192ms/step - loss: 27330930.0000 - distribution_accuracy: 0.4951 - val_loss: 27154362.0000 - val_distribution_accuracy: 0.5092\n",
      "Epoch 4/20\n",
      "30/30 [==============================] - 6s 192ms/step - loss: 27000614.0000 - distribution_accuracy: 0.4966 - val_loss: 26825786.0000 - val_distribution_accuracy: 0.5193\n",
      "Epoch 5/20\n",
      "30/30 [==============================] - 6s 196ms/step - loss: 26673194.0000 - distribution_accuracy: 0.4981 - val_loss: 26499528.0000 - val_distribution_accuracy: 0.5031\n",
      "Epoch 6/20\n",
      "30/30 [==============================] - 6s 191ms/step - loss: 26347734.0000 - distribution_accuracy: 0.4949 - val_loss: 26174886.0000 - val_distribution_accuracy: 0.4964\n",
      "Epoch 7/20\n",
      "30/30 [==============================] - 6s 193ms/step - loss: 26023680.0000 - distribution_accuracy: 0.4916 - val_loss: 25851444.0000 - val_distribution_accuracy: 0.4972\n",
      "Epoch 8/20\n",
      "30/30 [==============================] - 6s 191ms/step - loss: 25700698.0000 - distribution_accuracy: 0.4979 - val_loss: 25528952.0000 - val_distribution_accuracy: 0.4937\n",
      "Epoch 9/20\n",
      "30/30 [==============================] - 6s 191ms/step - loss: 25378596.0000 - distribution_accuracy: 0.4947 - val_loss: 25207272.0000 - val_distribution_accuracy: 0.4914\n",
      "Epoch 10/20\n",
      "30/30 [==============================] - 6s 191ms/step - loss: 25057260.0000 - distribution_accuracy: 0.4954 - val_loss: 24886310.0000 - val_distribution_accuracy: 0.5013\n",
      "Epoch 11/20\n",
      "30/30 [==============================] - 6s 192ms/step - loss: 24736610.0000 - distribution_accuracy: 0.5009 - val_loss: 24566020.0000 - val_distribution_accuracy: 0.5046\n",
      "Epoch 12/20\n",
      "30/30 [==============================] - 6s 192ms/step - loss: 24416636.0000 - distribution_accuracy: 0.4949 - val_loss: 24246392.0000 - val_distribution_accuracy: 0.4968\n",
      "Epoch 13/20\n",
      "30/30 [==============================] - 6s 191ms/step - loss: 24097308.0000 - distribution_accuracy: 0.4955 - val_loss: 23927408.0000 - val_distribution_accuracy: 0.4987\n",
      "Epoch 14/20\n",
      "30/30 [==============================] - 6s 191ms/step - loss: 23778622.0000 - distribution_accuracy: 0.4977 - val_loss: 23609074.0000 - val_distribution_accuracy: 0.5042\n",
      "Epoch 15/20\n",
      "30/30 [==============================] - 6s 191ms/step - loss: 23460598.0000 - distribution_accuracy: 0.4957 - val_loss: 23291404.0000 - val_distribution_accuracy: 0.4976\n",
      "Epoch 16/20\n",
      "30/30 [==============================] - 6s 191ms/step - loss: 23143244.0000 - distribution_accuracy: 0.4939 - val_loss: 22974412.0000 - val_distribution_accuracy: 0.5059\n",
      "Epoch 17/20\n",
      "30/30 [==============================] - 6s 192ms/step - loss: 22826574.0000 - distribution_accuracy: 0.4999 - val_loss: 22658106.0000 - val_distribution_accuracy: 0.4908\n",
      "Epoch 18/20\n",
      "30/30 [==============================] - 6s 191ms/step - loss: 22510600.0000 - distribution_accuracy: 0.4940 - val_loss: 22342516.0000 - val_distribution_accuracy: 0.5027\n",
      "Epoch 19/20\n",
      "30/30 [==============================] - 6s 191ms/step - loss: 22195354.0000 - distribution_accuracy: 0.4936 - val_loss: 22027664.0000 - val_distribution_accuracy: 0.5011\n",
      "Epoch 20/20\n",
      "30/30 [==============================] - 6s 191ms/step - loss: 21880848.0000 - distribution_accuracy: 0.4981 - val_loss: 21713564.0000 - val_distribution_accuracy: 0.5047\n"
     ]
    }
   ],
   "source": [
    "# Train the model\n",
    "training = model.fit(\n",
    "    train_batched,\n",
    "    epochs=20,\n",
    "    validation_data=val_batched,\n",
    "    #callbacks=callbacks, # uncomment to use callbacks\n",
    ")"
   ]
  },
  {
   "cell_type": "code",
   "execution_count": 15,
   "metadata": {},
   "outputs": [],
   "source": [
    "# Save the model and history for reference\n",
    "model.save(MODELS_DIR + \"5_BCNN_balanced.h5\")\n",
    "np.save(MODELS_DIR + \"5_BCNN_balanced_history.npy\", training.history)"
   ]
  },
  {
   "cell_type": "code",
   "execution_count": 16,
   "metadata": {},
   "outputs": [],
   "source": [
    "# load the model and history if not retraining\n",
    "# model = tf.keras.models.load_model(MODELS_DIR + \"4_BCNN_balanced.h5\")\n",
    "# history = np.load(MODELS_DIR + \"4_BCNN_balanced_history.npy\", allow_pickle=True).item()"
   ]
  },
  {
   "cell_type": "code",
   "execution_count": 17,
   "metadata": {},
   "outputs": [],
   "source": [
    "# adapt if loading from history\n",
    "history = training.history"
   ]
  },
  {
   "cell_type": "code",
   "execution_count": 22,
   "metadata": {},
   "outputs": [
    {
     "name": "stdout",
     "output_type": "stream",
     "text": [
      "Final training distribution accuracy:  0.4980657994747162\n",
      "Final training loss:  21880848.0\n",
      "Final validation distribution accuracy:  0.5047144293785095\n",
      "Final validation loss:  21713564.0\n"
     ]
    }
   ],
   "source": [
    "# analyze the training and validation results\n",
    "print(\"Final training distribution accuracy: \", history[\"distribution_accuracy\"][-1])\n",
    "print(\"Final training loss: \", history[\"loss\"][-1])\n",
    "\n",
    "print(\"Final validation distribution accuracy: \", history[\"val_distribution_accuracy\"][-1])\n",
    "print(\"Final validation loss: \", history[\"val_loss\"][-1])"
   ]
  },
  {
   "cell_type": "code",
   "execution_count": 24,
   "metadata": {},
   "outputs": [
    {
     "data": {
      "image/png": "[encoded data removed]",
      "text/plain": [
       "<Figure size 1200x600 with 2 Axes>"
      ]
     },
     "metadata": {},
     "output_type": "display_data"
    }
   ],
   "source": [
    "# Create a new figure\n",
    "plt.figure(figsize=(12, 6))\n",
    "\n",
    "# Subplot for accuracy\n",
    "plt.subplot(1, 2, 1)\n",
    "plt.plot(history[\"distribution_accuracy\"])\n",
    "plt.plot(history[\"val_distribution_accuracy\"])\n",
    "plt.title(\"Model accuracy\")\n",
    "plt.ylabel(\"Accuracy\")\n",
    "plt.xlabel(\"Epoch\")\n",
    "plt.legend([\"Train\", \"Validation\"], loc=\"upper left\")\n",
    "\n",
    "# Subplot for loss\n",
    "plt.subplot(1, 2, 2)\n",
    "plt.plot(history[\"loss\"])\n",
    "plt.plot(history[\"val_loss\"])\n",
    "plt.title(\"Model loss\")\n",
    "plt.ylabel(\"Loss\")\n",
    "plt.xlabel(\"Epoch\")\n",
    "plt.legend([\"Train\", \"Validation\"], loc=\"upper left\")\n",
    "\n",
    "# Display the plots\n",
    "plt.tight_layout()\n",
    "plt.show()"
   ]
  },
  {
   "cell_type": "markdown",
   "metadata": {},
   "source": [
    "## Testing on the test set"
   ]
  },
  {
   "cell_type": "code",
   "execution_count": 25,
   "metadata": {},
   "outputs": [
    {
     "name": "stdout",
     "output_type": "stream",
     "text": [
      "4/4 - 1s - loss: 21713566.0000 - distribution_accuracy: 0.4932 - 1s/epoch - 307ms/step\n",
      "Test accuracy: 0.49318909645080566\n",
      "Test loss: 21713566.0\n"
     ]
    }
   ],
   "source": [
    "test_dataset_batched = test_dataset.batch(batch_size)\n",
    "test_loss, test_accuracy = model.evaluate(test_dataset_batched, verbose=2)\n",
    "print(\"Test accuracy:\", test_accuracy)\n",
    "print(\"Test loss:\", test_loss)"
   ]
  },
  {
   "cell_type": "markdown",
   "metadata": {},
   "source": [
    "## Exploring probabilities in a Bayesian CNN"
   ]
  },
  {
   "cell_type": "code",
   "execution_count": 26,
   "metadata": {},
   "outputs": [
    {
     "name": "stdout",
     "output_type": "stream",
     "text": [
      "Original shape: (224, 224, 3)\n",
      "New shape: (1, 224, 224, 3)\n"
     ]
    }
   ],
   "source": [
    "# Extract a single batch from the test set\n",
    "for image, label in test_dataset.take(1):\n",
    "    print(\"Original shape:\", image.shape)\n",
    "    # Add an extra dimension to represent the batch size\n",
    "    image_batch = tf.expand_dims(image, axis=0)\n",
    "    print(\"New shape:\", image_batch.shape)"
   ]
  },
  {
   "cell_type": "code",
   "execution_count": 27,
   "metadata": {},
   "outputs": [
    {
     "name": "stdout",
     "output_type": "stream",
     "text": [
      "1/1 [==============================] - 0s 498ms/step\n"
     ]
    },
    {
     "data": {
      "text/plain": [
       "array([[0, 0, 0, 0, 1, 0, 0, 1, 0, 1, 1, 0, 1, 0, 1, 0, 1, 0, 1, 1, 1, 0,\n",
       "        0, 0, 0, 1, 0, 1, 0, 0, 1, 0, 0, 0, 0, 1, 1, 1, 0, 1, 0, 1, 1, 0,\n",
       "        1, 1, 0, 0, 1, 0, 0, 1, 0, 0, 0, 0, 0, 1, 0, 0, 1, 1, 0, 1]])"
      ]
     },
     "execution_count": 27,
     "metadata": {},
     "output_type": "execute_result"
    }
   ],
   "source": [
    "# Make a prediction on the sample image\n",
    "prediction1 = model.predict(image_batch)\n",
    "prediction1"
   ]
  },
  {
   "cell_type": "code",
   "execution_count": 32,
   "metadata": {},
   "outputs": [
    {
     "data": {
      "text/plain": [
       "(1, 64)"
      ]
     },
     "execution_count": 32,
     "metadata": {},
     "output_type": "execute_result"
    }
   ],
   "source": [
    "prediction1.shape # prediction is a distribution, 64 different outputs for a single input"
   ]
  },
  {
   "cell_type": "code",
   "execution_count": 36,
   "metadata": {},
   "outputs": [
    {
     "data": {
      "text/plain": [
       "0.421875"
      ]
     },
     "execution_count": 36,
     "metadata": {},
     "output_type": "execute_result"
    }
   ],
   "source": [
    "# Take the mean of the distribution as the predicted probability\n",
    "prediction1_mean = np.mean(prediction1)\n",
    "prediction1_mean"
   ]
  },
  {
   "cell_type": "code",
   "execution_count": 28,
   "metadata": {},
   "outputs": [
    {
     "name": "stdout",
     "output_type": "stream",
     "text": [
      "1/1 [==============================] - 0s 22ms/step\n"
     ]
    },
    {
     "data": {
      "text/plain": [
       "array([[1, 0, 0, 1, 1, 1, 0, 1, 1, 1, 1, 1, 1, 1, 1, 1, 1, 1, 0, 0, 0, 1,\n",
       "        0, 1, 1, 0, 0, 1, 1, 1, 1, 1, 1, 1, 0, 1, 1, 1, 0, 0, 0, 1, 1, 0,\n",
       "        1, 0, 0, 1, 0, 0, 0, 0, 0, 1, 1, 1, 1, 1, 0, 0, 1, 0, 1, 0]])"
      ]
     },
     "execution_count": 28,
     "metadata": {},
     "output_type": "execute_result"
    }
   ],
   "source": [
    "# Let's make a new prediction with the same image\n",
    "prediction2 = model.predict(image_batch)\n",
    "prediction2"
   ]
  },
  {
   "cell_type": "code",
   "execution_count": 37,
   "metadata": {},
   "outputs": [
    {
     "data": {
      "text/plain": [
       "0.609375"
      ]
     },
     "execution_count": 37,
     "metadata": {},
     "output_type": "execute_result"
    }
   ],
   "source": [
    "# Take the mean of the distribution as the predicted probability\n",
    "prediction2_mean = np.mean(prediction2)\n",
    "prediction2_mean"
   ]
  },
  {
   "cell_type": "code",
   "execution_count": 38,
   "metadata": {},
   "outputs": [
    {
     "name": "stdout",
     "output_type": "stream",
     "text": [
      "Is prediction1 distribution equal to prediction2 distribution? False\n",
      "Is prediction1 mean value equal to prediction2 mean value? False\n"
     ]
    }
   ],
   "source": [
    "# Check if the predictions are the same\n",
    "predictions = np.array_equal(prediction1, prediction2)\n",
    "predictions_mean = np.array_equal(prediction1_mean, prediction2_mean)\n",
    "print(f\"Is prediction1 distribution equal to prediction2 distribution? {predictions}\")\n",
    "print(f\"Is prediction1 mean value equal to prediction2 mean value? {predictions_mean}\")"
   ]
  },
  {
   "cell_type": "markdown",
   "metadata": {},
   "source": [
    "In contrast to a CNN, the results from a Bayesian CNN are depended on the distributions"
   ]
  },
  {
   "cell_type": "markdown",
   "metadata": {},
   "source": [
    "## Dive into multiple runs"
   ]
  },
  {
   "cell_type": "code",
   "execution_count": 40,
   "metadata": {},
   "outputs": [
    {
     "name": "stdout",
     "output_type": "stream",
     "text": [
      "1/1 [==============================] - 0s 196ms/step\n",
      "1/1 [==============================] - 0s 21ms/step\n",
      "1/1 [==============================] - 0s 19ms/step\n",
      "1/1 [==============================] - 0s 19ms/step\n",
      "1/1 [==============================] - 0s 20ms/step\n",
      "1/1 [==============================] - 0s 19ms/step\n",
      "1/1 [==============================] - 0s 20ms/step\n",
      "1/1 [==============================] - 0s 21ms/step\n",
      "1/1 [==============================] - 0s 20ms/step\n",
      "1/1 [==============================] - 0s 20ms/step\n",
      "1/1 [==============================] - 0s 21ms/step\n",
      "1/1 [==============================] - 0s 20ms/step\n",
      "1/1 [==============================] - 0s 21ms/step\n",
      "1/1 [==============================] - 0s 21ms/step\n",
      "1/1 [==============================] - 0s 21ms/step\n",
      "1/1 [==============================] - 0s 23ms/step\n",
      "1/1 [==============================] - 0s 22ms/step\n",
      "1/1 [==============================] - 0s 21ms/step\n",
      "1/1 [==============================] - 0s 20ms/step\n",
      "1/1 [==============================] - 0s 19ms/step\n",
      "1/1 [==============================] - 0s 19ms/step\n",
      "1/1 [==============================] - 0s 21ms/step\n",
      "1/1 [==============================] - 0s 22ms/step\n",
      "1/1 [==============================] - 0s 22ms/step\n",
      "1/1 [==============================] - 0s 21ms/step\n",
      "1/1 [==============================] - 0s 20ms/step\n",
      "1/1 [==============================] - 0s 21ms/step\n",
      "1/1 [==============================] - 0s 21ms/step\n",
      "1/1 [==============================] - 0s 20ms/step\n",
      "1/1 [==============================] - 0s 20ms/step\n",
      "1/1 [==============================] - 0s 22ms/step\n",
      "1/1 [==============================] - 0s 22ms/step\n",
      "1/1 [==============================] - 0s 23ms/step\n",
      "1/1 [==============================] - 0s 25ms/step\n",
      "1/1 [==============================] - 0s 22ms/step\n",
      "1/1 [==============================] - 0s 24ms/step\n",
      "1/1 [==============================] - 0s 23ms/step\n",
      "1/1 [==============================] - 0s 23ms/step\n",
      "1/1 [==============================] - 0s 24ms/step\n",
      "1/1 [==============================] - 0s 25ms/step\n",
      "1/1 [==============================] - 0s 24ms/step\n",
      "1/1 [==============================] - 0s 24ms/step\n",
      "1/1 [==============================] - 0s 25ms/step\n",
      "1/1 [==============================] - 0s 25ms/step\n",
      "1/1 [==============================] - 0s 25ms/step\n",
      "1/1 [==============================] - 0s 24ms/step\n",
      "1/1 [==============================] - 0s 24ms/step\n",
      "1/1 [==============================] - 0s 24ms/step\n",
      "1/1 [==============================] - 0s 23ms/step\n",
      "1/1 [==============================] - 0s 24ms/step\n",
      "1/1 [==============================] - 0s 24ms/step\n",
      "1/1 [==============================] - 0s 24ms/step\n",
      "1/1 [==============================] - 0s 22ms/step\n",
      "1/1 [==============================] - 0s 24ms/step\n",
      "1/1 [==============================] - 0s 23ms/step\n",
      "1/1 [==============================] - 0s 24ms/step\n",
      "1/1 [==============================] - 0s 23ms/step\n",
      "1/1 [==============================] - 0s 24ms/step\n",
      "1/1 [==============================] - 0s 25ms/step\n",
      "1/1 [==============================] - 0s 24ms/step\n",
      "1/1 [==============================] - 0s 26ms/step\n",
      "1/1 [==============================] - 0s 24ms/step\n",
      "1/1 [==============================] - 0s 25ms/step\n",
      "1/1 [==============================] - 0s 27ms/step\n",
      "1/1 [==============================] - 0s 27ms/step\n",
      "1/1 [==============================] - 0s 26ms/step\n",
      "1/1 [==============================] - 0s 25ms/step\n",
      "1/1 [==============================] - 0s 26ms/step\n",
      "1/1 [==============================] - 0s 26ms/step\n",
      "1/1 [==============================] - 0s 23ms/step\n",
      "1/1 [==============================] - 0s 27ms/step\n",
      "1/1 [==============================] - 0s 26ms/step\n",
      "1/1 [==============================] - 0s 26ms/step\n",
      "1/1 [==============================] - 0s 27ms/step\n",
      "1/1 [==============================] - 0s 27ms/step\n",
      "1/1 [==============================] - 0s 27ms/step\n",
      "1/1 [==============================] - 0s 26ms/step\n",
      "1/1 [==============================] - 0s 27ms/step\n",
      "1/1 [==============================] - 0s 27ms/step\n",
      "1/1 [==============================] - 0s 28ms/step\n",
      "1/1 [==============================] - 0s 28ms/step\n",
      "1/1 [==============================] - 0s 25ms/step\n",
      "1/1 [==============================] - 0s 26ms/step\n",
      "1/1 [==============================] - 0s 26ms/step\n",
      "1/1 [==============================] - 0s 26ms/step\n",
      "1/1 [==============================] - 0s 27ms/step\n",
      "1/1 [==============================] - 0s 28ms/step\n",
      "1/1 [==============================] - 0s 28ms/step\n",
      "1/1 [==============================] - 0s 28ms/step\n",
      "1/1 [==============================] - 0s 28ms/step\n",
      "1/1 [==============================] - 0s 27ms/step\n",
      "1/1 [==============================] - 0s 28ms/step\n",
      "1/1 [==============================] - 0s 31ms/step\n",
      "1/1 [==============================] - 0s 32ms/step\n",
      "1/1 [==============================] - 0s 33ms/step\n",
      "1/1 [==============================] - 0s 29ms/step\n",
      "1/1 [==============================] - 0s 29ms/step\n",
      "1/1 [==============================] - 0s 28ms/step\n",
      "1/1 [==============================] - 0s 30ms/step\n",
      "1/1 [==============================] - 0s 31ms/step\n"
     ]
    }
   ],
   "source": [
    "# Run the model multiple times\n",
    "num_runs = 100\n",
    "outputs = np.zeros((num_runs, 1))\n",
    "for i in range(num_runs):\n",
    "    outputs[i] = model.predict(image_batch).mean() # take the mean of the distribution"
   ]
  },
  {
   "cell_type": "code",
   "execution_count": 41,
   "metadata": {},
   "outputs": [
    {
     "data": {
      "image/png": "[encoded data removed]",
      "text/plain": [
       "<Figure size 640x480 with 1 Axes>"
      ]
     },
     "metadata": {},
     "output_type": "display_data"
    }
   ],
   "source": [
    "# Plot the distribution of outputs\n",
    "plt.hist(outputs, bins=10, range=(0, 1))\n",
    "plt.title(\"Distribution of outputs for a single input\")\n",
    "plt.xlabel(\"Output\")\n",
    "plt.ylabel(\"Frequency\")\n",
    "plt.show()"
   ]
  },
  {
   "cell_type": "code",
   "execution_count": 42,
   "metadata": {},
   "outputs": [
    {
     "name": "stdout",
     "output_type": "stream",
     "text": [
      "Mean: 0.5328125\n",
      "Max: 0.75\n",
      "Min: 0.34375\n",
      "Standard Deviation: 0.0797793588201234\n"
     ]
    }
   ],
   "source": [
    "# Calculate statistics\n",
    "mean = np.mean(outputs)\n",
    "max_value = np.max(outputs)\n",
    "min_value = np.min(outputs)\n",
    "std_dev = np.std(outputs)\n",
    "\n",
    "# Print statistics\n",
    "print(f\"Mean: {mean}\")\n",
    "print(f\"Max: {max_value}\")\n",
    "print(f\"Min: {min_value}\")\n",
    "print(f\"Standard Deviation: {std_dev}\")"
   ]
  },
  {
   "cell_type": "code",
   "execution_count": 43,
   "metadata": {},
   "outputs": [
    {
     "name": "stdout",
     "output_type": "stream",
     "text": [
      "Most common class: [1.]\n",
      "True class: [1]\n"
     ]
    }
   ],
   "source": [
    "from scipy import stats\n",
    "\n",
    "# Round the outputs to get the predicted classes\n",
    "predicted_classes = np.round(outputs)\n",
    "\n",
    "# Find the most common class\n",
    "most_common_class = stats.mode(predicted_classes)[0]\n",
    "\n",
    "print(f\"Most common class: {most_common_class}\")\n",
    "print(f\"True class: {label}\")"
   ]
  },
  {
   "cell_type": "code",
   "execution_count": 44,
   "metadata": {},
   "outputs": [
    {
     "name": "stdout",
     "output_type": "stream",
     "text": [
      "Percentage in class 0: 40.0%\n",
      "Percentage in class 1: 60.0%\n"
     ]
    }
   ],
   "source": [
    "# Count the number of occurrences of each class\n",
    "predicted_classes_int = np.round(outputs).astype(int)\n",
    "counts = np.bincount(predicted_classes_int.flatten())\n",
    "\n",
    "# Calculate the percentage of predictions in each class\n",
    "percentages = counts / num_runs * 100\n",
    "\n",
    "# Print the percentages\n",
    "for i, percentage in enumerate(percentages):\n",
    "    print(f\"Percentage in class {i}: {percentage}%\")"
   ]
  },
  {
   "cell_type": "code",
   "execution_count": 45,
   "metadata": {},
   "outputs": [
    {
     "data": {
      "image/png": "[encoded data removed]",
      "text/plain": [
       "<Figure size 640x480 with 1 Axes>"
      ]
     },
     "metadata": {},
     "output_type": "display_data"
    }
   ],
   "source": [
    "# Define colors\n",
    "colors = [\"blue\" if i == label else \"red\" for i in range(len(percentages))]\n",
    "\n",
    "# Create a bar plot\n",
    "plt.bar(range(len(percentages)), percentages, color=colors)\n",
    "\n",
    "# Set x-ticks\n",
    "plt.xticks(range(len(percentages)))\n",
    "\n",
    "# Add labels and title\n",
    "plt.xlabel(\"Class\")\n",
    "plt.ylabel(\"Percentage\")\n",
    "plt.title(\"Percentage of predictions in each class\")\n",
    "\n",
    "# Show the plot\n",
    "plt.show()"
   ]
  },
  {
   "cell_type": "markdown",
   "metadata": {},
   "source": [
    "The model predicts class the correct class one 60% of the time, while the incorrect class 40% of the time out of a 100 runs."
   ]
  }
 ],
 "metadata": {
  "kernelspec": {
   "display_name": "krr",
   "language": "python",
   "name": "python3"
  },
  "language_info": {
   "codemirror_mode": {
    "name": "ipython",
    "version": 3
   },
   "file_extension": ".py",
   "mimetype": "text/x-python",
   "name": "python",
   "nbconvert_exporter": "python",
   "pygments_lexer": "ipython3",
   "version": "3.9.18"
  }
 },
 "nbformat": 4,
 "nbformat_minor": 2
}
