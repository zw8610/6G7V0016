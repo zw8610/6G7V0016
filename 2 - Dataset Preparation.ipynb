{
 "cells": [
  {
   "cell_type": "markdown",
   "metadata": {},
   "source": [
    "# Create labelled datasets from images"
   ]
  },
  {
   "cell_type": "code",
   "execution_count": 4,
   "metadata": {},
   "outputs": [],
   "source": [
    "# imports\n",
    "import tensorflow as tf\n",
    "\n",
    "import pandas as pd\n",
    "import numpy as np\n",
    "\n",
    "from tqdm import tqdm\n",
    "from PIL import Image"
   ]
  },
  {
   "cell_type": "code",
   "execution_count": null,
   "metadata": {},
   "outputs": [],
   "source": [
    "# Paths to data\n",
    "DATA_DIR = \"C:/isic/\"\n",
    "DATASET_DIR = DATA_DIR + \"datasets/\"\n",
    "IMAGE_DIR = DATA_DIR + \"images/\"\n",
    "METADATA_DIR = DATA_DIR + \"metadata/\"\n",
    "MODELS_DIR = DATA_DIR + \"models/\""
   ]
  },
  {
   "cell_type": "code",
   "execution_count": 12,
   "metadata": {},
   "outputs": [],
   "source": [
    "# CSV files\n",
    "isic_trimmed_csv = METADATA_DIR + \"isic_trimmed.csv\"\n",
    "isic_trimmed_balanced_csv = METADATA_DIR + \"isic_trimmed_balanced.csv\"\n",
    "\n",
    "# Load CSVs\n",
    "isic_df = pd.read_csv(isic_trimmed_csv)\n",
    "isic_bal_df = pd.read_csv(isic_trimmed_balanced_csv)"
   ]
  },
  {
   "cell_type": "code",
   "execution_count": 10,
   "metadata": {},
   "outputs": [],
   "source": [
    "# Function to preprocess the images\n",
    "def preprocess_image(image_path):\n",
    "    img = Image.open(image_path)\n",
    "    img = img.resize((224, 224))  # Standardize size to 244x244 pixels - common in CNN models\n",
    "    img = np.array(img) / 255.0  # Normalize pixel values to [0, 1]\n",
    "\n",
    "    return img"
   ]
  },
  {
   "cell_type": "code",
   "execution_count": 18,
   "metadata": {},
   "outputs": [],
   "source": [
    "# Function to write TFRecords from a dataframe\n",
    "# Assumes the dataframe has columns \"image_name\" and \"target\"\n",
    "# Assumes the images are in the image_folder with .jpg extension\n",
    "def write_tfrecord_from_dataframe(df, image_folder, tfrecord_filename):\n",
    "    with tf.io.TFRecordWriter(tfrecord_filename) as writer:\n",
    "        for index, row in tqdm(df.iterrows(), total=len(df)):\n",
    "            image_path = image_folder + row[\"image_name\"] + \".jpg\"\n",
    "            img = preprocess_image(image_path)\n",
    "\n",
    "            label = int(row[\"target\"])\n",
    "\n",
    "            feature = {\n",
    "                \"image\": tf.train.Feature(\n",
    "                    float_list=tf.train.FloatList(value=img.flatten())\n",
    "                ),\n",
    "                \"label\": tf.train.Feature(int64_list=tf.train.Int64List(value=[label])),\n",
    "            }\n",
    "\n",
    "            example = tf.train.Example(features=tf.train.Features(feature=feature))\n",
    "            writer.write(example.SerializeToString())"
   ]
  },
  {
   "cell_type": "code",
   "execution_count": 13,
   "metadata": {},
   "outputs": [],
   "source": [
    "# Paths to TFRecords\n",
    "isic_tf = DATASET_DIR + \"isic_no_duplicates.tfrecord\"\n",
    "isic_bal_tf = DATASET_DIR + \"isic_no_duplicates_balanced.tfrecord\""
   ]
  },
  {
   "cell_type": "code",
   "execution_count": 19,
   "metadata": {},
   "outputs": [
    {
     "name": "stderr",
     "output_type": "stream",
     "text": [
      "100%|██████████| 1162/1162 [02:16<00:00,  8.53it/s]\n"
     ]
    }
   ],
   "source": [
    "# Create TFRecords from balanaced dataframe\n",
    "write_tfrecord_from_dataframe(isic_bal_df, IMAGE_DIR, isic_bal_tf)"
   ]
  },
  {
   "cell_type": "code",
   "execution_count": null,
   "metadata": {},
   "outputs": [],
   "source": [
    "# Create TFRecords from full dataframe\n",
    "# very slow 1+ hours - 19GB file\n",
    "# write_tfrecord_from_dataframe(isic_df, IMAGE_DIR, isic_tf)"
   ]
  }
 ],
 "metadata": {
  "kernelspec": {
   "display_name": "krr",
   "language": "python",
   "name": "python3"
  },
  "language_info": {
   "codemirror_mode": {
    "name": "ipython",
    "version": 3
   },
   "file_extension": ".py",
   "mimetype": "text/x-python",
   "name": "python",
   "nbconvert_exporter": "python",
   "pygments_lexer": "ipython3",
   "version": "3.9.18"
  }
 },
 "nbformat": 4,
 "nbformat_minor": 2
}
